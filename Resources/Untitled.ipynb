{
 "cells": [
  {
   "cell_type": "code",
   "execution_count": 1,
   "id": "0e023dae-5a8b-4077-ab5d-204647182129",
   "metadata": {},
   "outputs": [],
   "source": [
    "# Import our dependencies\n",
    "import pandas as pd\n",
    "import matplotlib as plt\n",
    "from sklearn.datasets import make_blobs\n",
    "import sklearn as skl\n",
    "import tensorflow as tf"
   ]
  },
  {
   "cell_type": "code",
   "execution_count": 2,
   "id": "4f4b128d-0227-4582-b317-6716edcea9d7",
   "metadata": {},
   "outputs": [
    {
     "data": {
      "text/plain": [
       "<AxesSubplot:xlabel='Feature 1', ylabel='Feature 2'>"
      ]
     },
     "execution_count": 2,
     "metadata": {},
     "output_type": "execute_result"
    },
    {
     "data": {
      "image/png": "[encoded data removed]",
      "text/plain": [
       "<Figure size 432x288 with 2 Axes>"
      ]
     },
     "metadata": {
      "needs_background": "light"
     },
     "output_type": "display_data"
    }
   ],
   "source": [
    "# Generate dummy dataset\n",
    "X, y = make_blobs(n_samples=1000, centers=2, n_features=2, random_state=78)\n",
    "\n",
    "# Creating a DataFrame with the dummy data\n",
    "df = pd.DataFrame(X, columns=[\"Feature 1\", \"Feature 2\"])\n",
    "df[\"Target\"] = y\n",
    "\n",
    "# Plotting the dummy data\n",
    "df.plot.scatter(x=\"Feature 1\", y=\"Feature 2\", c=\"Target\", colormap=\"winter\")\n"
   ]
  },
  {
   "cell_type": "code",
   "execution_count": 3,
   "id": "bb3920e7-eb11-4a3f-b017-96344ea674af",
   "metadata": {},
   "outputs": [
    {
     "data": {
      "text/html": [
       "<div>\n",
       "<style scoped>\n",
       "    .dataframe tbody tr th:only-of-type {\n",
       "        vertical-align: middle;\n",
       "    }\n",
       "\n",
       "    .dataframe tbody tr th {\n",
       "        vertical-align: top;\n",
       "    }\n",
       "\n",
       "    .dataframe thead th {\n",
       "        text-align: right;\n",
       "    }\n",
       "</style>\n",
       "<table border=\"1\" class=\"dataframe\">\n",
       "  <thead>\n",
       "    <tr style=\"text-align: right;\">\n",
       "      <th></th>\n",
       "      <th>Feature 1</th>\n",
       "      <th>Feature 2</th>\n",
       "      <th>Target</th>\n",
       "    </tr>\n",
       "  </thead>\n",
       "  <tbody>\n",
       "    <tr>\n",
       "      <th>0</th>\n",
       "      <td>5.478098</td>\n",
       "      <td>7.203714</td>\n",
       "      <td>1</td>\n",
       "    </tr>\n",
       "    <tr>\n",
       "      <th>1</th>\n",
       "      <td>-8.428483</td>\n",
       "      <td>4.121889</td>\n",
       "      <td>0</td>\n",
       "    </tr>\n",
       "    <tr>\n",
       "      <th>2</th>\n",
       "      <td>-7.905447</td>\n",
       "      <td>3.323639</td>\n",
       "      <td>0</td>\n",
       "    </tr>\n",
       "    <tr>\n",
       "      <th>3</th>\n",
       "      <td>6.411041</td>\n",
       "      <td>5.523013</td>\n",
       "      <td>1</td>\n",
       "    </tr>\n",
       "    <tr>\n",
       "      <th>4</th>\n",
       "      <td>7.288599</td>\n",
       "      <td>6.171226</td>\n",
       "      <td>1</td>\n",
       "    </tr>\n",
       "    <tr>\n",
       "      <th>...</th>\n",
       "      <td>...</td>\n",
       "      <td>...</td>\n",
       "      <td>...</td>\n",
       "    </tr>\n",
       "    <tr>\n",
       "      <th>995</th>\n",
       "      <td>6.208962</td>\n",
       "      <td>5.233968</td>\n",
       "      <td>1</td>\n",
       "    </tr>\n",
       "    <tr>\n",
       "      <th>996</th>\n",
       "      <td>-9.795754</td>\n",
       "      <td>3.502709</td>\n",
       "      <td>0</td>\n",
       "    </tr>\n",
       "    <tr>\n",
       "      <th>997</th>\n",
       "      <td>4.335167</td>\n",
       "      <td>5.928298</td>\n",
       "      <td>1</td>\n",
       "    </tr>\n",
       "    <tr>\n",
       "      <th>998</th>\n",
       "      <td>-8.466632</td>\n",
       "      <td>3.577022</td>\n",
       "      <td>0</td>\n",
       "    </tr>\n",
       "    <tr>\n",
       "      <th>999</th>\n",
       "      <td>-8.386629</td>\n",
       "      <td>4.179025</td>\n",
       "      <td>0</td>\n",
       "    </tr>\n",
       "  </tbody>\n",
       "</table>\n",
       "<p>1000 rows × 3 columns</p>\n",
       "</div>"
      ],
      "text/plain": [
       "     Feature 1  Feature 2  Target\n",
       "0     5.478098   7.203714       1\n",
       "1    -8.428483   4.121889       0\n",
       "2    -7.905447   3.323639       0\n",
       "3     6.411041   5.523013       1\n",
       "4     7.288599   6.171226       1\n",
       "..         ...        ...     ...\n",
       "995   6.208962   5.233968       1\n",
       "996  -9.795754   3.502709       0\n",
       "997   4.335167   5.928298       1\n",
       "998  -8.466632   3.577022       0\n",
       "999  -8.386629   4.179025       0\n",
       "\n",
       "[1000 rows x 3 columns]"
      ]
     },
     "execution_count": 3,
     "metadata": {},
     "output_type": "execute_result"
    }
   ],
   "source": [
    "df"
   ]
  },
  {
   "cell_type": "code",
   "execution_count": 4,
   "id": "0a9cd3ac-fd95-4939-b4fe-0db2eeb79725",
   "metadata": {},
   "outputs": [
    {
     "data": {
      "text/plain": [
       "1    500\n",
       "0    500\n",
       "Name: Target, dtype: int64"
      ]
     },
     "execution_count": 4,
     "metadata": {},
     "output_type": "execute_result"
    }
   ],
   "source": [
    "df[\"Target\"].value_counts()"
   ]
  },
  {
   "cell_type": "code",
   "execution_count": 5,
   "id": "86248596-f841-4254-8e07-d03e51d21b6b",
   "metadata": {},
   "outputs": [
    {
     "data": {
      "text/plain": [
       "array([[<AxesSubplot:title={'center':'Feature 1'}>,\n",
       "        <AxesSubplot:title={'center':'Feature 2'}>],\n",
       "       [<AxesSubplot:title={'center':'Target'}>, <AxesSubplot:>]],\n",
       "      dtype=object)"
      ]
     },
     "execution_count": 5,
     "metadata": {},
     "output_type": "execute_result"
    },
    {
     "data": {
      "image/png": "[encoded data removed]",
      "text/plain": [
       "<Figure size 432x288 with 4 Axes>"
      ]
     },
     "metadata": {
      "needs_background": "light"
     },
     "output_type": "display_data"
    }
   ],
   "source": [
    "df.hist()"
   ]
  },
  {
   "cell_type": "code",
   "execution_count": 6,
   "id": "da494510-6555-45a1-ba2a-e50824e6d0d8",
   "metadata": {},
   "outputs": [
    {
     "data": {
      "text/html": [
       "<div>\n",
       "<style scoped>\n",
       "    .dataframe tbody tr th:only-of-type {\n",
       "        vertical-align: middle;\n",
       "    }\n",
       "\n",
       "    .dataframe tbody tr th {\n",
       "        vertical-align: top;\n",
       "    }\n",
       "\n",
       "    .dataframe thead th {\n",
       "        text-align: right;\n",
       "    }\n",
       "</style>\n",
       "<table border=\"1\" class=\"dataframe\">\n",
       "  <thead>\n",
       "    <tr style=\"text-align: right;\">\n",
       "      <th></th>\n",
       "      <th>Feature 1</th>\n",
       "      <th>Feature 2</th>\n",
       "      <th>Target</th>\n",
       "    </tr>\n",
       "  </thead>\n",
       "  <tbody>\n",
       "    <tr>\n",
       "      <th>count</th>\n",
       "      <td>1000.000000</td>\n",
       "      <td>1000.000000</td>\n",
       "      <td>1000.00000</td>\n",
       "    </tr>\n",
       "    <tr>\n",
       "      <th>mean</th>\n",
       "      <td>-1.510537</td>\n",
       "      <td>4.818695</td>\n",
       "      <td>0.50000</td>\n",
       "    </tr>\n",
       "    <tr>\n",
       "      <th>std</th>\n",
       "      <td>7.634715</td>\n",
       "      <td>1.548696</td>\n",
       "      <td>0.50025</td>\n",
       "    </tr>\n",
       "    <tr>\n",
       "      <th>min</th>\n",
       "      <td>-12.380816</td>\n",
       "      <td>0.470104</td>\n",
       "      <td>0.00000</td>\n",
       "    </tr>\n",
       "    <tr>\n",
       "      <th>25%</th>\n",
       "      <td>-9.104230</td>\n",
       "      <td>3.598370</td>\n",
       "      <td>0.00000</td>\n",
       "    </tr>\n",
       "    <tr>\n",
       "      <th>50%</th>\n",
       "      <td>-0.976028</td>\n",
       "      <td>4.763438</td>\n",
       "      <td>0.50000</td>\n",
       "    </tr>\n",
       "    <tr>\n",
       "      <th>75%</th>\n",
       "      <td>6.083629</td>\n",
       "      <td>6.094444</td>\n",
       "      <td>1.00000</td>\n",
       "    </tr>\n",
       "    <tr>\n",
       "      <th>max</th>\n",
       "      <td>9.180235</td>\n",
       "      <td>10.118125</td>\n",
       "      <td>1.00000</td>\n",
       "    </tr>\n",
       "  </tbody>\n",
       "</table>\n",
       "</div>"
      ],
      "text/plain": [
       "         Feature 1    Feature 2      Target\n",
       "count  1000.000000  1000.000000  1000.00000\n",
       "mean     -1.510537     4.818695     0.50000\n",
       "std       7.634715     1.548696     0.50025\n",
       "min     -12.380816     0.470104     0.00000\n",
       "25%      -9.104230     3.598370     0.00000\n",
       "50%      -0.976028     4.763438     0.50000\n",
       "75%       6.083629     6.094444     1.00000\n",
       "max       9.180235    10.118125     1.00000"
      ]
     },
     "execution_count": 6,
     "metadata": {},
     "output_type": "execute_result"
    }
   ],
   "source": [
    "df.describe()"
   ]
  },
  {
   "cell_type": "code",
   "execution_count": 7,
   "id": "53c51bd1-e82a-4237-9b75-33bbbbbee8ae",
   "metadata": {},
   "outputs": [],
   "source": [
    "# Use sklearn to split dataset\n",
    "from sklearn.model_selection import train_test_split\n",
    "X_train, X_test, y_train, y_test = train_test_split(X, y, random_state=78)"
   ]
  },
  {
   "cell_type": "code",
   "execution_count": 8,
   "id": "d947b99f-fbbc-489d-9d64-5c4fe027f382",
   "metadata": {},
   "outputs": [],
   "source": [
    "# Create scaler instance\n",
    "X_scaler = skl.preprocessing.StandardScaler()\n",
    "\n",
    "# Fit the scaler\n",
    "X_scaler.fit(X_train)\n",
    "\n",
    "# Scale the data\n",
    "X_train_scaled = X_scaler.transform(X_train)\n",
    "X_test_scaled = X_scaler.transform(X_test)"
   ]
  },
  {
   "cell_type": "code",
   "execution_count": 9,
   "id": "7b9219c7-d03a-417d-91bd-6dce3fba7333",
   "metadata": {},
   "outputs": [],
   "source": [
    "# Create the Keras Sequential model\n",
    "nn_model = tf.keras.models.Sequential()"
   ]
  },
  {
   "cell_type": "code",
   "execution_count": 10,
   "id": "7c98cae4-d1e1-4620-8131-e00a90918296",
   "metadata": {},
   "outputs": [],
   "source": [
    "# Add our first Dense layer, including the input layer\n",
    "nn_model.add(tf.keras.layers.Dense(units=1, activation=\"relu\", input_dim=2))"
   ]
  },
  {
   "cell_type": "code",
   "execution_count": 11,
   "id": "42ada708-032c-4d22-862e-307829142086",
   "metadata": {},
   "outputs": [],
   "source": [
    "# Add the output layer that uses a probability activation function\n",
    "nn_model.add(tf.keras.layers.Dense(units=1, activation=\"sigmoid\"))"
   ]
  },
  {
   "cell_type": "code",
   "execution_count": 12,
   "id": "6e1c7096-19d7-4f16-972b-5dc57e22d10d",
   "metadata": {},
   "outputs": [
    {
     "name": "stdout",
     "output_type": "stream",
     "text": [
      "Model: \"sequential\"\n",
      "_________________________________________________________________\n",
      " Layer (type)                Output Shape              Param #   \n",
      "=================================================================\n",
      " dense (Dense)               (None, 1)                 3         \n",
      "                                                                 \n",
      " dense_1 (Dense)             (None, 1)                 2         \n",
      "                                                                 \n",
      "=================================================================\n",
      "Total params: 5\n",
      "Trainable params: 5\n",
      "Non-trainable params: 0\n",
      "_________________________________________________________________\n"
     ]
    }
   ],
   "source": [
    "# Check the structure of the Sequential model\n",
    "nn_model.summary()\n"
   ]
  },
  {
   "cell_type": "code",
   "execution_count": 13,
   "id": "499da972-9465-4868-b580-c33bcdc69b5a",
   "metadata": {},
   "outputs": [],
   "source": [
    "# Compile the Sequential model together and customize metrics\n",
    "nn_model.compile(loss=\"binary_crossentropy\", optimizer=\"adam\", metrics=[\"accuracy\"])"
   ]
  },
  {
   "cell_type": "code",
   "execution_count": 14,
   "id": "826b05d1-f470-41b6-a45a-bd86d2a6037b",
   "metadata": {},
   "outputs": [
    {
     "name": "stdout",
     "output_type": "stream",
     "text": [
      "Epoch 1/100\n",
      "24/24 [==============================] - 0s 875us/step - loss: 1.0695 - accuracy: 0.0307\n",
      "Epoch 2/100\n",
      "24/24 [==============================] - 0s 828us/step - loss: 1.0320 - accuracy: 0.0227\n",
      "Epoch 3/100\n",
      "24/24 [==============================] - 0s 805us/step - loss: 0.9977 - accuracy: 0.0240\n",
      "Epoch 4/100\n",
      "24/24 [==============================] - 0s 809us/step - loss: 0.9664 - accuracy: 0.0253\n",
      "Epoch 5/100\n",
      "24/24 [==============================] - 0s 742us/step - loss: 0.9377 - accuracy: 0.0333\n",
      "Epoch 6/100\n",
      "24/24 [==============================] - 0s 707us/step - loss: 0.9113 - accuracy: 0.0347\n",
      "Epoch 7/100\n",
      "24/24 [==============================] - 0s 682us/step - loss: 0.8880 - accuracy: 0.0467\n",
      "Epoch 8/100\n",
      "24/24 [==============================] - 0s 757us/step - loss: 0.8666 - accuracy: 0.0587\n",
      "Epoch 9/100\n",
      "24/24 [==============================] - 0s 689us/step - loss: 0.8469 - accuracy: 0.0693\n",
      "Epoch 10/100\n",
      "24/24 [==============================] - 0s 674us/step - loss: 0.8288 - accuracy: 0.0840\n",
      "Epoch 11/100\n",
      "24/24 [==============================] - 0s 676us/step - loss: 0.8128 - accuracy: 0.1000\n",
      "Epoch 12/100\n",
      "24/24 [==============================] - 0s 739us/step - loss: 0.7982 - accuracy: 0.1173\n",
      "Epoch 13/100\n",
      "24/24 [==============================] - 0s 808us/step - loss: 0.7849 - accuracy: 0.1387\n",
      "Epoch 14/100\n",
      "24/24 [==============================] - 0s 866us/step - loss: 0.7728 - accuracy: 0.1613\n",
      "Epoch 15/100\n",
      "24/24 [==============================] - 0s 725us/step - loss: 0.7617 - accuracy: 0.1853\n",
      "Epoch 16/100\n",
      "24/24 [==============================] - 0s 689us/step - loss: 0.7518 - accuracy: 0.2013\n",
      "Epoch 17/100\n",
      "24/24 [==============================] - 0s 771us/step - loss: 0.7428 - accuracy: 0.2173\n",
      "Epoch 18/100\n",
      "24/24 [==============================] - 0s 747us/step - loss: 0.7349 - accuracy: 0.2413\n",
      "Epoch 19/100\n",
      "24/24 [==============================] - 0s 851us/step - loss: 0.7281 - accuracy: 0.2667\n",
      "Epoch 20/100\n",
      "24/24 [==============================] - 0s 676us/step - loss: 0.7219 - accuracy: 0.3107\n",
      "Epoch 21/100\n",
      "24/24 [==============================] - 0s 805us/step - loss: 0.7162 - accuracy: 0.3467\n",
      "Epoch 22/100\n",
      "24/24 [==============================] - 0s 721us/step - loss: 0.7114 - accuracy: 0.3693\n",
      "Epoch 23/100\n",
      "24/24 [==============================] - 0s 684us/step - loss: 0.7076 - accuracy: 0.3893\n",
      "Epoch 24/100\n",
      "24/24 [==============================] - 0s 728us/step - loss: 0.7047 - accuracy: 0.4067\n",
      "Epoch 25/100\n",
      "24/24 [==============================] - 0s 696us/step - loss: 0.7026 - accuracy: 0.4147\n",
      "Epoch 26/100\n",
      "24/24 [==============================] - 0s 767us/step - loss: 0.7009 - accuracy: 0.4267\n",
      "Epoch 27/100\n",
      "24/24 [==============================] - 0s 745us/step - loss: 0.6995 - accuracy: 0.4400\n",
      "Epoch 28/100\n",
      "24/24 [==============================] - 0s 787us/step - loss: 0.6984 - accuracy: 0.4440\n",
      "Epoch 29/100\n",
      "24/24 [==============================] - 0s 798us/step - loss: 0.6975 - accuracy: 0.4480\n",
      "Epoch 30/100\n",
      "24/24 [==============================] - 0s 999us/step - loss: 0.6967 - accuracy: 0.4520\n",
      "Epoch 31/100\n",
      "24/24 [==============================] - 0s 892us/step - loss: 0.6961 - accuracy: 0.4560\n",
      "Epoch 32/100\n",
      "24/24 [==============================] - 0s 844us/step - loss: 0.6956 - accuracy: 0.4587\n",
      "Epoch 33/100\n",
      "24/24 [==============================] - 0s 1ms/step - loss: 0.6953 - accuracy: 0.4680\n",
      "Epoch 34/100\n",
      "24/24 [==============================] - 0s 1ms/step - loss: 0.6949 - accuracy: 0.4707\n",
      "Epoch 35/100\n",
      "24/24 [==============================] - 0s 792us/step - loss: 0.6946 - accuracy: 0.4733\n",
      "Epoch 36/100\n",
      "24/24 [==============================] - 0s 815us/step - loss: 0.6943 - accuracy: 0.4760\n",
      "Epoch 37/100\n",
      "24/24 [==============================] - 0s 802us/step - loss: 0.6942 - accuracy: 0.4773\n",
      "Epoch 38/100\n",
      "24/24 [==============================] - 0s 673us/step - loss: 0.6940 - accuracy: 0.4773\n",
      "Epoch 39/100\n",
      "24/24 [==============================] - 0s 695us/step - loss: 0.6939 - accuracy: 0.4787\n",
      "Epoch 40/100\n",
      "24/24 [==============================] - 0s 699us/step - loss: 0.6938 - accuracy: 0.4800\n",
      "Epoch 41/100\n",
      "24/24 [==============================] - 0s 689us/step - loss: 0.6937 - accuracy: 0.4813\n",
      "Epoch 42/100\n",
      "24/24 [==============================] - 0s 696us/step - loss: 0.6936 - accuracy: 0.4827\n",
      "Epoch 43/100\n",
      "24/24 [==============================] - 0s 746us/step - loss: 0.6935 - accuracy: 0.4853\n",
      "Epoch 44/100\n",
      "24/24 [==============================] - 0s 812us/step - loss: 0.6935 - accuracy: 0.4853\n",
      "Epoch 45/100\n",
      "24/24 [==============================] - 0s 696us/step - loss: 0.6934 - accuracy: 0.4867\n",
      "Epoch 46/100\n",
      "24/24 [==============================] - 0s 709us/step - loss: 0.6934 - accuracy: 0.4867\n",
      "Epoch 47/100\n",
      "24/24 [==============================] - 0s 759us/step - loss: 0.6934 - accuracy: 0.4867\n",
      "Epoch 48/100\n",
      "24/24 [==============================] - 0s 684us/step - loss: 0.6934 - accuracy: 0.5067\n",
      "Epoch 49/100\n",
      "24/24 [==============================] - 0s 744us/step - loss: 0.6934 - accuracy: 0.5067\n",
      "Epoch 50/100\n",
      "24/24 [==============================] - 0s 826us/step - loss: 0.6934 - accuracy: 0.5067\n",
      "Epoch 51/100\n",
      "24/24 [==============================] - 0s 737us/step - loss: 0.6934 - accuracy: 0.5067\n",
      "Epoch 52/100\n",
      "24/24 [==============================] - 0s 745us/step - loss: 0.6933 - accuracy: 0.5067\n",
      "Epoch 53/100\n",
      "24/24 [==============================] - 0s 739us/step - loss: 0.6934 - accuracy: 0.5067\n",
      "Epoch 54/100\n",
      "24/24 [==============================] - 0s 786us/step - loss: 0.6933 - accuracy: 0.5067\n",
      "Epoch 55/100\n",
      "24/24 [==============================] - 0s 810us/step - loss: 0.6933 - accuracy: 0.5067\n",
      "Epoch 56/100\n",
      "24/24 [==============================] - 0s 722us/step - loss: 0.6933 - accuracy: 0.5067\n",
      "Epoch 57/100\n",
      "24/24 [==============================] - 0s 794us/step - loss: 0.6933 - accuracy: 0.5067\n",
      "Epoch 58/100\n",
      "24/24 [==============================] - 0s 885us/step - loss: 0.6933 - accuracy: 0.5067\n",
      "Epoch 59/100\n",
      "24/24 [==============================] - 0s 795us/step - loss: 0.6933 - accuracy: 0.5067\n",
      "Epoch 60/100\n",
      "24/24 [==============================] - 0s 739us/step - loss: 0.6932 - accuracy: 0.5067\n",
      "Epoch 61/100\n",
      "24/24 [==============================] - 0s 751us/step - loss: 0.6933 - accuracy: 0.5067\n",
      "Epoch 62/100\n",
      "24/24 [==============================] - 0s 826us/step - loss: 0.6932 - accuracy: 0.5067\n",
      "Epoch 63/100\n",
      "24/24 [==============================] - 0s 969us/step - loss: 0.6932 - accuracy: 0.5067\n",
      "Epoch 64/100\n",
      "24/24 [==============================] - 0s 870us/step - loss: 0.6932 - accuracy: 0.5067\n",
      "Epoch 65/100\n",
      "24/24 [==============================] - 0s 739us/step - loss: 0.6932 - accuracy: 0.5067\n",
      "Epoch 66/100\n",
      "24/24 [==============================] - 0s 849us/step - loss: 0.6932 - accuracy: 0.5067\n",
      "Epoch 67/100\n",
      "24/24 [==============================] - 0s 705us/step - loss: 0.6932 - accuracy: 0.5067\n",
      "Epoch 68/100\n",
      "24/24 [==============================] - 0s 679us/step - loss: 0.6932 - accuracy: 0.5067\n",
      "Epoch 69/100\n",
      "24/24 [==============================] - 0s 696us/step - loss: 0.6932 - accuracy: 0.5067\n",
      "Epoch 70/100\n",
      "24/24 [==============================] - 0s 990us/step - loss: 0.6932 - accuracy: 0.5067\n",
      "Epoch 71/100\n",
      "24/24 [==============================] - 0s 881us/step - loss: 0.6932 - accuracy: 0.5067\n",
      "Epoch 72/100\n",
      "24/24 [==============================] - 0s 981us/step - loss: 0.6932 - accuracy: 0.5067\n",
      "Epoch 73/100\n",
      "24/24 [==============================] - 0s 988us/step - loss: 0.6932 - accuracy: 0.5067\n",
      "Epoch 74/100\n",
      "24/24 [==============================] - 0s 819us/step - loss: 0.6932 - accuracy: 0.5067\n",
      "Epoch 75/100\n",
      "24/24 [==============================] - 0s 808us/step - loss: 0.6932 - accuracy: 0.5067\n",
      "Epoch 76/100\n",
      "24/24 [==============================] - 0s 908us/step - loss: 0.6932 - accuracy: 0.5067\n",
      "Epoch 77/100\n",
      "24/24 [==============================] - 0s 1ms/step - loss: 0.6932 - accuracy: 0.5067\n",
      "Epoch 78/100\n",
      "24/24 [==============================] - 0s 1ms/step - loss: 0.6932 - accuracy: 0.5067\n",
      "Epoch 79/100\n",
      "24/24 [==============================] - 0s 1ms/step - loss: 0.6932 - accuracy: 0.5067\n",
      "Epoch 80/100\n",
      "24/24 [==============================] - 0s 1ms/step - loss: 0.6931 - accuracy: 0.5067\n",
      "Epoch 81/100\n",
      "24/24 [==============================] - 0s 1ms/step - loss: 0.6932 - accuracy: 0.5067\n",
      "Epoch 82/100\n",
      "24/24 [==============================] - 0s 1ms/step - loss: 0.6932 - accuracy: 0.5067\n",
      "Epoch 83/100\n",
      "24/24 [==============================] - 0s 1ms/step - loss: 0.6932 - accuracy: 0.5067\n",
      "Epoch 84/100\n",
      "24/24 [==============================] - 0s 1ms/step - loss: 0.6931 - accuracy: 0.5067\n",
      "Epoch 85/100\n",
      "24/24 [==============================] - 0s 883us/step - loss: 0.6931 - accuracy: 0.5067\n",
      "Epoch 86/100\n",
      "24/24 [==============================] - 0s 1ms/step - loss: 0.6931 - accuracy: 0.5067\n",
      "Epoch 87/100\n",
      "24/24 [==============================] - 0s 1ms/step - loss: 0.6932 - accuracy: 0.5067\n",
      "Epoch 88/100\n",
      "24/24 [==============================] - 0s 1ms/step - loss: 0.6931 - accuracy: 0.5067\n",
      "Epoch 89/100\n",
      "24/24 [==============================] - 0s 1ms/step - loss: 0.6931 - accuracy: 0.5067\n",
      "Epoch 90/100\n",
      "24/24 [==============================] - 0s 1ms/step - loss: 0.6931 - accuracy: 0.5067\n",
      "Epoch 91/100\n",
      "24/24 [==============================] - 0s 1ms/step - loss: 0.6932 - accuracy: 0.5067\n",
      "Epoch 92/100\n",
      "24/24 [==============================] - 0s 1ms/step - loss: 0.6931 - accuracy: 0.5067\n",
      "Epoch 93/100\n",
      "24/24 [==============================] - 0s 1ms/step - loss: 0.6932 - accuracy: 0.5067\n",
      "Epoch 94/100\n",
      "24/24 [==============================] - 0s 2ms/step - loss: 0.6931 - accuracy: 0.5067\n",
      "Epoch 95/100\n",
      "24/24 [==============================] - 0s 1ms/step - loss: 0.6932 - accuracy: 0.5067\n",
      "Epoch 96/100\n",
      "24/24 [==============================] - 0s 964us/step - loss: 0.6931 - accuracy: 0.5067\n",
      "Epoch 97/100\n",
      "24/24 [==============================] - 0s 955us/step - loss: 0.6931 - accuracy: 0.5067\n",
      "Epoch 98/100\n",
      "24/24 [==============================] - 0s 1ms/step - loss: 0.6931 - accuracy: 0.5067\n",
      "Epoch 99/100\n",
      "24/24 [==============================] - 0s 1ms/step - loss: 0.6931 - accuracy: 0.5067\n",
      "Epoch 100/100\n",
      "24/24 [==============================] - 0s 1ms/step - loss: 0.6931 - accuracy: 0.5067\n"
     ]
    }
   ],
   "source": [
    "# Fit the model to the training data\n",
    "fit_model = nn_model.fit(X_train_scaled, y_train, epochs=100)\n"
   ]
  },
  {
   "cell_type": "code",
   "execution_count": 16,
   "id": "266ae11b-bb56-49fe-b095-56a20ae09a07",
   "metadata": {},
   "outputs": [
    {
     "data": {
      "text/plain": [
       "<AxesSubplot:>"
      ]
     },
     "execution_count": 16,
     "metadata": {},
     "output_type": "execute_result"
    },
    {
     "data": {
      "image/png": "[encoded data removed]",
      "text/plain": [
       "<Figure size 432x288 with 1 Axes>"
      ]
     },
     "metadata": {
      "needs_background": "light"
     },
     "output_type": "display_data"
    }
   ],
   "source": [
    "# Create a DataFrame containing training history\n",
    "history_df = pd.DataFrame(fit_model.history, index=range(1,len(fit_model.history[\"loss\"])+1))\n",
    "\n",
    "# Plot the loss\n",
    "history_df.plot(y=\"loss\")"
   ]
  },
  {
   "cell_type": "code",
   "execution_count": 17,
   "id": "a87398de-040f-4b2f-b668-e0b625d70793",
   "metadata": {},
   "outputs": [
    {
     "data": {
      "text/plain": [
       "<AxesSubplot:>"
      ]
     },
     "execution_count": 17,
     "metadata": {},
     "output_type": "execute_result"
    },
    {
     "data": {
      "image/png": "[encoded data removed]",
      "text/plain": [
       "<Figure size 432x288 with 1 Axes>"
      ]
     },
     "metadata": {
      "needs_background": "light"
     },
     "output_type": "display_data"
    }
   ],
   "source": [
    "# Plot the accuracy\n",
    "history_df.plot(y=\"accuracy\")"
   ]
  },
  {
   "cell_type": "code",
   "execution_count": 18,
   "id": "7d7c9c99-ace6-4b1a-85ce-db5ca2d2cfa8",
   "metadata": {},
   "outputs": [
    {
     "name": "stdout",
     "output_type": "stream",
     "text": [
      "8/8 - 0s - loss: 0.6937 - accuracy: 0.4800 - 149ms/epoch - 19ms/step\n",
      "Loss: 0.6936914324760437, Accuracy: 0.47999998927116394\n"
     ]
    }
   ],
   "source": [
    "# Evaluate the model using the test data\n",
    "model_loss, model_accuracy = nn_model.evaluate(X_test_scaled,y_test,verbose=2)\n",
    "print(f\"Loss: {model_loss}, Accuracy: {model_accuracy}\")"
   ]
  },
  {
   "cell_type": "code",
   "execution_count": 19,
   "id": "35b225c3-3bbc-4f57-8f4e-429ffc8b8410",
   "metadata": {},
   "outputs": [
    {
     "data": {
      "text/plain": [
       "array([[0],\n",
       "       [0],\n",
       "       [0],\n",
       "       [0],\n",
       "       [0],\n",
       "       [0],\n",
       "       [0],\n",
       "       [0],\n",
       "       [0],\n",
       "       [0]])"
      ]
     },
     "execution_count": 19,
     "metadata": {},
     "output_type": "execute_result"
    }
   ],
   "source": [
    "# Predict the classification of a new set of blob data\n",
    "new_X, new_Y = make_blobs(n_samples=10, centers=2, n_features=2, random_state=78)\n",
    "new_X_scaled = X_scaler.transform(new_X)\n",
    "(nn_model.predict(new_X_scaled) > 0.5).astype(\"int32\")"
   ]
  },
  {
   "cell_type": "code",
   "execution_count": null,
   "id": "200171bc-945a-4692-b0ab-fd3a67af1584",
   "metadata": {},
   "outputs": [],
   "source": []
  }
 ],
 "metadata": {
  "kernelspec": {
   "display_name": "mlenv",
   "language": "python",
   "name": "mlenv"
  },
  "language_info": {
   "codemirror_mode": {
    "name": "ipython",
    "version": 3
   },
   "file_extension": ".py",
   "mimetype": "text/x-python",
   "name": "python",
   "nbconvert_exporter": "python",
   "pygments_lexer": "ipython3",
   "version": "3.7.11"
  }
 },
 "nbformat": 4,
 "nbformat_minor": 5
}
